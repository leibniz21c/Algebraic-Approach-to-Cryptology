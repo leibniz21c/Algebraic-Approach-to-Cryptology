{
 "metadata": {
  "language_info": {
   "codemirror_mode": {
    "name": "ipython",
    "version": 3
   },
   "file_extension": ".py",
   "mimetype": "text/x-python",
   "name": "python",
   "nbconvert_exporter": "python",
   "pygments_lexer": "ipython3",
   "version": 3
  },
  "orig_nbformat": 2
 },
 "nbformat": 4,
 "nbformat_minor": 2,
 "cells": [
  {
   "cell_type": "markdown",
   "metadata": {},
   "source": [
    "# CH01. 암호의 개요와 치환 암호\n",
    "---\n",
    "<strong>1.1. 암호의 개요</strong><br>\n",
    "- Code(코드) : Codeword나 Code number로 재구성한 수천 개의 단어, 어구, 문자, 음절.\n",
    "- Cipher(암호) : 문자나 문자쌍을 기본 단위로 가지는 어구.\n",
    "- Plaintext(평문) : 일상적인 언어로 구성된 문장\n",
    "- Ciphertext(암호문) : 평문을 암호를 사용해 다른 사람은 이해하지 못하는 비밀 형태로 바꾼 것.\n",
    "- Key(키) : 암호를 변형할 수 있는 추가 정보\n",
    "- Encoding(부호화) : 평문을 암호문으로 바꾸는 과정\n",
    "- Decoding(복호화) : 암호문을 평문으로 바꾸는 과정\n",
    "- Cryptology(암호학) : 암호해독과 코드파괴를 통틀어 암호기술을 연구하는 학문\n",
    "\n"
   ]
  },
  {
   "cell_type": "markdown",
   "metadata": {},
   "source": [
    "<strong>1.2. 시저 암호</strong><br>\n",
    "줄리어스 시저가 즐겨 사용하던 암호화 방식.\n",
    "> 시저가 키케로와 가까운 친지들에게 사적인 내용이 담긴 편지를 보내기도 했는데, 내용을 비밀로 하고 싶을 때는 암호를 사용해 편지를 썼다. 그는 알파벳의 순서를 바꾸어 다른 사람이 무슨 말인지 이해할 수 없게 만들었다. 암호를 풀어 시저의 편지 내용을 알고 싶으면 각 문자를 알파벳 순서에서 거꾸로 세번째인 문자로 치환해야 한다. 이를테면 D는 A로 바꿔야 한다.\n",
    "\n",
    "이와 같이 특정 문자를 다른 문자로 치환하는 방법을 치환 암호(Substitution Cipher)라 하고 시저 암호의 경우는 다음과 같이 치환된다.<br><br>\n",
    "\n",
    "a b c d e f g h i j k l n m o p q r s t u v w x y z<br>\n",
    "D E F G H I J K L N M O P Q R S T U V W X Y Z A B C<br><br>\n",
    "\n",
    "x가 A로 돌아가는 것에 관하여 순환의 개념이 사용되었고, 이는 모듈러 연산으로 수학적 형식으로 나타낼 수 있다. 시저 암호는 다음과 같이 일반화 된다.<br><br>\n",
    "\n",
    "1에서 26까지 각 알파벳에 순서대로 대응될 때, 평문 문자 P는 다음과 같이 암호 문자 C로 부호화된다.\n",
    "$$ C \\equiv P+3\\,\\bmod\\,26 $$\n",
    "위와 같이 순환의 개념이 사용되는 경우는 모듈러 연산을 이용하는 경우가 많다."
   ]
  },
  {
   "cell_type": "markdown",
   "metadata": {},
   "source": [
    "<strong>1.3. 시저암호의 일반화</strong><br>\n",
    "원시적인 암호방식인 시저암호는 Key가 존재하지 않는다. 이러한 방식을 치환암호 방식중에서도 이동 암호(Shift Cipher) 또는 덧셈 암호(Additive Cipher)라고 하고, 시저암호의 경우는 rot3이라고 부른다. (3자리를 밀어내 치환하고 앞으로 돌아가는 방식) 이때 Key는 3이라고 할 수 있다. 이렇듯 이동 암호에 사용할 수 있는 키는 0에서 25까지 존재하며, 0의 경우는 평문에 아무 변화도 일으키지 않는다. 이를 Trivial Cipher(자명한 암호)라고 부른다. "
   ]
  },
  {
   "cell_type": "markdown",
   "metadata": {},
   "source": [
    "<strong>1.4. 곱셈 암호</strong><br>\n",
    "선형적인 치환을 가지는 덧셈 암호 방식보다 조금더 복잡한 방법으로는 Decimation Method(데시메이션 기법)을 사용하는 곱셈 암호가 있다. <br>\n",
    "Example :<br>알파벳에 C서\\equiv P*key\\,\\bmod\\,26 다음\n",
    "시저 암호와 달리 곱셈 암호의 복호화는 조금더 부담스러운 형태이다. 모든 복호화 함수는 부호화 함수의 역원 관계이다. 이를 이용하면 다음과 같이 곱셈 암호의 복호화가 가능하다.<br>\n",
    "$$ P \\equiv \\frac{C + 26n}{key}, n \\in N $$\n",
    "물론 y와 x의 정의역과 치역에 대해 부호화 함수에서 그대로 가져온다. 따라서 생략한다.<br><br>\n",
    "\n",
    "추가적으로 곱셈 암호에서 Key를 설정하려고 하면, 몇가지 안되는 것이 존재함을 확인할 수 있다. 예를 들어 Key가 0이라면 모든 문자가 Z로 치환된다. 이때 불가능한 키는 총 14개이고, 이는 2의 배수나 13의 배수로 이루어져있다. 즉, 키가 될 수 있는 값은 26의 약수의 곱으로 이루어진 합성수를 제외한 수이다. \n",
    "\n",
    "과 같이 y로 부호화된다.<br>\n",
    "\n",
    "$$ y = (x * key )\\,\\bmod\\,26 $$\n",
    "key가 3이라고 가정하면, 다음과 같이 치환된다.<br><br>\n",
    "a b c d e f g h i j k l m n o p q r s t u v w x y z<br>\n",
    "C F I L O R U X A D G J M P S V Y B E H K N Q T W Z<br><br>\n",
    "시저 암호(덧셈 암호)보다 암호를 해독하는 것에 있어서 조금의 부담감이 더해진다. 부호화 함수가 위처럼 제공되듯, 복호화 함수는 부호화 함수의 역연산, 역함수를 구해주면 간단해진다. \n",
    "$$ y = (x + 26n) / 3 $$\n"
   ]
  },
  {
   "cell_type": "markdown",
   "metadata": {},
   "source": [
    "<strong>1.5. 아핀 암호</strong><br>\n",
    "곱셈 암호는 조금 더 복잡하지만 Brute Force Attack(무차별 대입 공격)을 이용하여 쉽게 복호화가 가능하다. "
   ]
  },
  {
   "cell_type": "code",
   "execution_count": null,
   "metadata": {},
   "outputs": [],
   "source": []
  }
 ]
}