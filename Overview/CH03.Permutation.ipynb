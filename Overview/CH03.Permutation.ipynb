{
 "metadata": {
  "language_info": {
   "codemirror_mode": {
    "name": "ipython",
    "version": 3
   },
   "file_extension": ".py",
   "mimetype": "text/x-python",
   "name": "python",
   "nbconvert_exporter": "python",
   "pygments_lexer": "ipython3",
   "version": 3
  },
  "orig_nbformat": 2
 },
 "nbformat": 4,
 "nbformat_minor": 2,
 "cells": [
  {
   "source": [
    "# Overview. Review of abstract algebra\n",
    "---\n",
    "<strong>Content</strong><br>\n",
    "다음의 내용들은 CH03 내용인 전치암호의 선수가 되는 수학적 정의와 정리들입니다.<br>\n",
    "수업과 밑의 내용은 암호학을 공부하는것에 무리가 없을 정도만 구성했습니다.<br>\n",
    "꼭, 정리하시고 숙달까지 하시길 바랍니다. "
   ],
   "cell_type": "markdown",
   "metadata": {}
  },
  {
   "source": [
    "<strong>Definition.A.1 Permutation(치환)</strong><br>\n",
    "집합 $ S_n = \\{1, 2, ..., n\\} $에 $ S_n $에서 $ S_n $으로의 모든 전단사함수에 대해서 다음을 정의한다.<br><br>\n",
    "\n",
    "(1) 전단사함수 $ \\sigma \\,\\ : \\,\\ S_n \\rightarrow S_n \\,\\ $를 $ S_n $의 치환(Permutation) 또는 순열이라고 한다.<br>\n",
    "치환 $ \\sigma \\,\\ : \\,\\ S_n \\rightarrow S_n \\,\\ $에 대해서 $ \\sigma(i) = \\sigma_i $로 쓰고<br>\n",
    "$ \\sigma = \\begin{pmatrix}\n",
    "1 & 2 & \\cdots & n\\\\ \n",
    "\\sigma_1 & \\sigma_2 & \\cdots & \\sigma_n \n",
    "\\end{pmatrix} \\,\\ \\text{or} \\,\\ \\sigma = (\\sigma_1 \\,\\ \\sigma_2 \\,\\ \\cdots \\,\\ \\sigma_n) $\n",
    "으로 나타낸다.<br><br>\n",
    "\n",
    "(2) 특히, 치환 $ \\sigma = \\begin{pmatrix}\n",
    "1 & 2 & \\cdots & n\\\\ \n",
    "1 & 2 & \\cdots & 3 \n",
    "\\end{pmatrix} $을 단위치환(Unit Permutation)이라고 하며<br>\n",
    "$ e = (1 \\,\\ 2 \\,\\ \\cdots \\,\\ n ) \\,\\ $으로 나타낸다.<br><br>\n",
    "\n",
    "(3) $ i \\neq j $ 에 대해서<br>\n",
    "$$ \\sigma_i = j, \\,\\ \\sigma_j = i, \\,\\ \\sigma_k = k \\,\\ where \\,\\ k \\neq i,\\,\\ j $$\n",
    "인 $ S_n $의 치환 $ \\sigma $를 호환(Transposition)이라고 하고, $ [i \\,\\ j] $ 로 나타낸다.<br>\n",
    "표현을 편리하게 사용하기 위하여 모든 $ 1 \\leq i \\leq n $에 대하여 $ [i \\,\\ i] = (1 \\,\\ 2 \\,\\ \\cdots \\,\\ n) = e $ 로 쓰기로 약속한다.<br><br>\n",
    "\n",
    "(4) $ S_n $의 치환 $ \\sigma $와 $ \\tau $에 대해서, 합성 함수 $ \\sigma \\cdot \\tau \\,\\ : \\,\\ S_n \\rightarrow S_n $ 도 $ S_n $의 한 치환이 되고<br> $ \\sigma \\cdot \\tau $를 $ \\sigma $와 $ \\tau $의 곱(Product)으로 정의하고 $ \\sigma \\cdot \\tau = \\sigma \\tau $로 나타낸다.<br><br>\n",
    "\n",
    "(5) 치환 $\\sigma$의 역함수 $\\sigma^{-1}$도 $S_n$의 한 치환이 되고 $\\sigma^{-1}$를 $\\sigma$의 역치환(Inverse Permutation)이라고 한다.<br>\n",
    "여기에서 $(\\sigma \\tau)^{-1} = \\tau^{-1} \\sigma{-1} $ 임을 주의한다. (자명하다)"
   ],
   "cell_type": "markdown",
   "metadata": {}
  },
  {
   "source": [
    "<strong>Theorem.A.1</strong><br>\n",
    "$ S_n $의 모든 치환은 호환의 곱으로 나타낼 수 있다.<br><br>\n",
    "\n",
    "<strong>Proof)</strong><br>\n",
    "치환 $\\sigma = \\begin{pmatrix}\n",
    "1 & 2 & \\cdots & n\\\\ \n",
    "\\sigma_1 & \\sigma_2 & \\cdots & \\sigma_n \n",
    "\\end{pmatrix}, \\,\\ \\sigma_{k_i} = i $에 대해서 다음이 성립한다.<br>\n",
    "$ \\sigma = \\begin{pmatrix}\n",
    "1 & 2 & \\cdots & n\\\\ \n",
    "\\sigma_1 & \\sigma_2 & \\cdots & \\sigma_n \n",
    "\\end{pmatrix} $<br>\n",
    "$ \\,\\ = [1 \\,\\ k_1] \\begin{pmatrix}\n",
    "1 & 2 & \\cdots & k_1 & \\cdots & n\\\\ \n",
    "1 & \\sigma_2 & \\cdots & \\sigma_1 & \\cdots & \\sigma_n \n",
    "\\end{pmatrix} $<br>\n",
    "$ \\,\\ = [1 \\,\\ k_1] [2 \\,\\ k_2] \\begin{pmatrix}\n",
    "1 & 2 & \\cdots & k_2 & \\cdots & n\\\\ \n",
    "1 & 2 & \\cdots & \\sigma_2 & \\cdots & \\sigma_n \n",
    "\\end{pmatrix}  $<br>\n",
    "$ \\cdots $<br>\n",
    "$ \\,\\ = [1 \\,\\ k_1] [2 \\,\\ k_2] \\cdots [n \\,\\ k_n] e $<br>\n",
    "$ \\,\\ = [1 \\,\\ k_1] [2 \\,\\ k_2] \\cdots [n \\,\\ k_n] $ <br>\n",
    " $ \\blacksquare $<br><br>\n",
    "\n",
    " (1) $S_n$의 치환중에서 $ 1 \\leq a_1, a_2, \\cdots, a_k \\leq n $에 대하여<br>\n",
    " $ \\tau(a_1) = a_2, \\,\\ \\tau(a_2) = a_3, \\,\\ \\tau(a_k) = a_1, $이고 $ \\tau(i) = i \\,\\ (i \\neq a_1, a_2, \\cdots, a_k) $로 나타나는 치환을 길이가 $k$인 순환치환(Cyclic Permutation)이라고 하고 $[a_1 \\,\\ a_2 \\,\\ \\cdots \\,\\ a_k]$로 나타낸다.<br>\n",
    " 따라서, 호환(Transposition)은 길이가 2인 순환치환이다.\n",
    " $$ [a_1 \\,\\ a_2 \\,\\ \\cdots \\,\\ a_k] = [a_1 \\,\\ a_k] [a_1 \\,\\ a_{k-1}] \\cdots [a_1 \\,\\ a_2] $$\n"
   ],
   "cell_type": "markdown",
   "metadata": {}
  },
  {
   "source": [
    "<strong>Theorem.A.2</strong><br>\n",
    "$ S_n $의 치환 $\\sigma$를 호환의 곱으로 나타낼 때, 호환의 개수가 짝수(홀수)일때, $\\sigma$를 호환의 곱으로 나타내는 방법 여하에 불구하고 항상 호환의 개수는 짝수(홀수)이다.\n",
    "<strong>Proof)</strong><br>\n",
    "자명하다. $ \\blacksquare $\n"
   ],
   "cell_type": "markdown",
   "metadata": {}
  },
  {
   "source": [
    "<strong>Definition.A.2 Even(odd) Permutation(우(기)치환)</strong><br>\n",
    "$S_n$의 치환 $\\sigma$를 호환의 곱으로 나타낼 때,<br>\n",
    "그 호환의 갯수가 짝수이면 $\\sigma$를 우치환(even permutation)이라 하고,<br>\n",
    "홀수이면 기치환(odd permutation)이라고 한다.<br>\n",
    "또 $\\sigma$의 부호(sign) $ sgn(\\sigma) $를 아래와 같이 정의한다.<br><br>\n",
    "$ sgn(\\sigma) = $ $ \\left\\{\\begin{matrix}\n",
    "1 \\,\\ if \\,\\ \\sigma \\,\\ \\text{is even permutation} \\\\ \n",
    "0 \\,\\ if \\,\\ \\sigma \\,\\ \\text{is odd permutation}\n",
    "\\end{matrix}\\right. $<br><br>\n",
    "\n",
    "(1) $S_n$의 치환은 모두 $n!$개가 있으며, 우치환과 기치환의 개수는 각각 $\\frac{n}{2}!$개 이다."
   ],
   "cell_type": "markdown",
   "metadata": {}
  },
  {
   "source": [
    "<strong>Theorem.A.3</strong><br>\n",
    "$ S_n $의 치환 $\\sigma$와 $\\tau$에 대해 다음이 성립한다.<br><br>\n",
    "\n",
    "(1) $ sgn(\\sigma \\tau) = sgn(\\sigma) sgn(\\tau) $<br>\n",
    "(2) $ sgn(\\sigma^{-1}) = sgn(\\sigma)$<br>\n",
    "<strong>Proof)</strong><br>\n",
    "자명하다. $ \\blacksquare $"
   ],
   "cell_type": "markdown",
   "metadata": {}
  },
  {
   "source": [
    "<strong>Reference</strong><br>\n",
    "John B.Fraleigh, 현대대수학, 7판<br>"
   ],
   "cell_type": "markdown",
   "metadata": {}
  }
 ]
}