{
 "metadata": {
  "language_info": {
   "codemirror_mode": {
    "name": "ipython",
    "version": 3
   },
   "file_extension": ".py",
   "mimetype": "text/x-python",
   "name": "python",
   "nbconvert_exporter": "python",
   "pygments_lexer": "ipython3",
   "version": 3
  },
  "orig_nbformat": 2
 },
 "nbformat": 4,
 "nbformat_minor": 2,
 "cells": [
  {
   "source": [
    "# Data and Operation in Binary Machine\n",
    "---"
   ],
   "cell_type": "markdown",
   "metadata": {}
  },
  {
   "source": [
    "<strong>Content</strong><br>\n",
    "본 특강에서는 이진 컴퓨터에서 데이터와 기본적으로 정의되어있는 연산에 대해서 다룬다."
   ],
   "cell_type": "markdown",
   "metadata": {}
  },
  {
   "source": [
    "<strong>Topic. ASCII Code</strong><br>\n",
    "ASCII (American Standard Code for Information Interchange, 미국 정보 교환 표준 부호) 코드는 7개의 비트를 사용하여 영어 알파벳을 포함한 문자에 대한 표현 방식의 표준이다. \n",
    "<img src=\"https://ww.namu.la/s/05acaba21abdca4ab79fdc7a1c604e2535b074bbe37a51181d89120499081e0d19000a106a7c96c99bebf82bc785f0e8ff45a98a32493cef61ba8722acef834706e1ba4c92cb1e544a34f632d23e65073a1d4f70643386c562ac0f9e8abf7952\"><br>\n",
    "<strong>Figure.A.2.1</strong><br>\n",
    "\n",
    "자세한 내용은 수업에서 다루겠다. (연계 토픽 - 유니코드)"
   ],
   "cell_type": "markdown",
   "metadata": {}
  },
  {
   "source": [
    "<strong>Definition.Moduler Operation</strong><br>\n",
    "유한개의 원소만으로 진행되는 산술연산."
   ],
   "cell_type": "markdown",
   "metadata": {}
  },
  {
   "source": [
    "<strong>Definition.Moduler-2 Summation</strong><br>\n",
    "Let $ a, b\\in \\{0, 1 \\} $\n",
    "$$ (a \\oplus b) \\,\\bmod \\,\\ 2 $$\n",
    "\n",
    "이는 XOR 논리 연산에 대응한다."
   ],
   "cell_type": "markdown",
   "metadata": {}
  },
  {
   "source": [
    "<strong>Definition.Moduler-2 Multiplication</strong><br>\n",
    "Let $ a, b\\in \\{0, 1 \\} $\n",
    "$$ (a \\otimes b) \\,\\bmod \\,\\ 2 $$\n",
    "\n",
    "이는 AND 논리 연산에 대응한다."
   ],
   "cell_type": "markdown",
   "metadata": {}
  },
  {
   "source": [
    "맥락상 다른 경우는 생략한다. Trivial.<br>\n",
    "(만약 moduler-26 연산으로 확장시 기존 치환 암호에서 다루던 내용과 동일하다.)"
   ],
   "cell_type": "markdown",
   "metadata": {}
  },
  {
   "source": [
    "<strong>Reference</strong><br>\n",
    "https://ko.wikipedia.org/"
   ],
   "cell_type": "markdown",
   "metadata": {}
  }
 ]
}