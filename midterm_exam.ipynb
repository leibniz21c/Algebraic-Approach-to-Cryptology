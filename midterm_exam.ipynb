{
 "metadata": {
  "language_info": {
   "codemirror_mode": {
    "name": "ipython",
    "version": 3
   },
   "file_extension": ".py",
   "mimetype": "text/x-python",
   "name": "python",
   "nbconvert_exporter": "python",
   "pygments_lexer": "ipython3",
   "version": "3.7.3-final"
  },
  "orig_nbformat": 2,
  "kernelspec": {
   "name": "Python 3.7.3 64-bit",
   "display_name": "Python 3.7.3 64-bit",
   "metadata": {
    "interpreter": {
     "hash": "31f2aee4e71d21fbe5cf8b01ff0e069b9275f58929596ceb00d14d90e3e16cd6"
    }
   }
  }
 },
 "nbformat": 4,
 "nbformat_minor": 2,
 "cells": [
  {
   "source": [
    "# Midterm Exam"
   ],
   "cell_type": "markdown",
   "metadata": {}
  },
  {
   "source": [
    "### 1. 다음 평문을 주어진 암호체계로 부호화하라.(10점)\n",
    "> hello world!\n",
    "\n",
    "$$ C \\equiv 5P + 3 \\,\\bmod \\,\\ 26 $$"
   ],
   "cell_type": "markdown",
   "metadata": {}
  },
  {
   "source": [
    "### 2. 다음 암호체계들의 복호화 식을 구하라.(10점)\n",
    "(1) $ C \\equiv P + 3 \\,\\bmod \\,\\ 26 $<br>\n",
    "(2) $ C \\equiv 7P \\,\\bmod \\,\\ 26 $<br>\n",
    "(3) $ C \\equiv 9P + 4 \\,\\bmod \\,\\ 26$"
   ],
   "cell_type": "markdown",
   "metadata": {}
  },
  {
   "source": [
    "### 3. 다음 중 현실적으로 문자 빈도 분석 공격을 수행하기 어려운 암호체계를 선택하고 그 이유를 서술하시오.(10점)\n",
    "(1) 블록의 수가 3인 힐 암호체계<br>\n",
    "(2) 아핀 암호체계 <br>\n",
    "(3) 충분한 길이의 암호문이 제공되고, 카파, 카지스키 테스트를 수행한 트리테미우스 암호 체계<br>\n",
    "(4) 시저 암호체계 <br>"
   ],
   "cell_type": "markdown",
   "metadata": {}
  },
  {
   "source": [
    "### 4. Jack은 2차 세계대전의 작전장교이다. 작전지에서 무선 전파를 수신받았는데, 이에 대한 내용은 다음과 같다.(10점)\n",
    "- 적군의 암호체계가 기본 트리테미우스 정사각형 암호체계를 사용한다는 첩보가 있었다.\n",
    "- 카파테스트를 한 결과는 다음과 같다.\n",
    "<table style=\"border-collapse:collapse;border-spacing:0;table-layout: fixed; width: 245px\" class=\"tg\"><colgroup><col style=\"width: 54px\"><col style=\"width: 97px\"><col style=\"width: 94px\"></colgroup><thead><tr><th style=\"border-color:inherit;border-style:solid;border-width:1px;color:#000000;font-family:Arial, sans-serif;font-size:14px;font-weight:normal;overflow:hidden;padding:10px 5px;text-align:left;vertical-align:top;word-break:normal\">변위량</th><th style=\"border-color:#000000;border-style:solid;border-width:1px;color:#000000;font-family:Arial, sans-serif;font-size:14px;font-weight:normal;overflow:hidden;padding:10px 5px;text-align:left;vertical-align:top;word-break:normal\">동시발생 횟수 </th><th style=\"border-color:#000000;border-style:solid;border-width:1px;color:#000000;font-family:Arial, sans-serif;font-size:14px;font-weight:normal;overflow:hidden;padding:10px 5px;text-align:left;vertical-align:top;word-break:normal\">동시발생지수</th></tr></thead><tbody><tr><td style=\"border-color:inherit;border-style:solid;border-width:1px;color:#000000;font-family:Arial, sans-serif;font-size:14px;overflow:hidden;padding:10px 5px;text-align:left;vertical-align:top;word-break:normal\">1</td><td style=\"background-color:#ffffff;border-color:inherit;border-style:solid;border-width:1px;color:#000000;font-family:Arial, sans-serif;font-size:14px;overflow:hidden;padding:10px 5px;text-align:left;vertical-align:top;word-break:normal\">7</td><td style=\"border-color:inherit;border-style:solid;border-width:1px;color:#000000;font-family:Arial, sans-serif;font-size:14px;overflow:hidden;padding:10px 5px;text-align:left;vertical-align:top;word-break:normal\">.030</td></tr><tr><td style=\"border-color:inherit;border-style:solid;border-width:1px;color:#000000;font-family:Arial, sans-serif;font-size:14px;overflow:hidden;padding:10px 5px;text-align:left;vertical-align:top;word-break:normal\">2</td><td style=\"border-color:inherit;border-style:solid;border-width:1px;color:#000000;font-family:Arial, sans-serif;font-size:14px;overflow:hidden;padding:10px 5px;text-align:left;vertical-align:top;word-break:normal\">10</td><td style=\"border-color:inherit;border-style:solid;border-width:1px;color:#000000;font-family:Arial, sans-serif;font-size:14px;overflow:hidden;padding:10px 5px;text-align:left;vertical-align:top;word-break:normal\">.043</td></tr><tr><td style=\"border-color:inherit;border-style:solid;border-width:1px;color:#000000;font-family:Arial, sans-serif;font-size:14px;overflow:hidden;padding:10px 5px;text-align:left;vertical-align:top;word-break:normal\">3</td><td style=\"border-color:inherit;border-style:solid;border-width:1px;color:#000000;font-family:Arial, sans-serif;font-size:14px;overflow:hidden;padding:10px 5px;text-align:left;vertical-align:top;word-break:normal\">9</td><td style=\"border-color:inherit;border-style:solid;border-width:1px;color:#000000;font-family:Arial, sans-serif;font-size:14px;overflow:hidden;padding:10px 5px;text-align:left;vertical-align:top;word-break:normal\">.038</td></tr><tr><td style=\"border-color:inherit;border-style:solid;border-width:1px;color:#000000;font-family:Arial, sans-serif;font-size:14px;overflow:hidden;padding:10px 5px;text-align:left;vertical-align:top;word-break:normal\">4</td><td style=\"border-color:inherit;border-style:solid;border-width:1px;color:#000000;font-family:Arial, sans-serif;font-size:14px;overflow:hidden;padding:10px 5px;text-align:left;vertical-align:top;word-break:normal\">11</td><td style=\"border-color:inherit;border-style:solid;border-width:1px;color:#000000;font-family:Arial, sans-serif;font-size:14px;overflow:hidden;padding:10px 5px;text-align:left;vertical-align:top;word-break:normal\">.047</td></tr><tr><td style=\"border-color:inherit;border-style:solid;border-width:1px;color:#fe0000;font-family:Arial, sans-serif;font-size:14px;overflow:hidden;padding:10px 5px;text-align:left;vertical-align:top;word-break:normal\">5</td><td style=\"border-color:inherit;border-style:solid;border-width:1px;color:#fe0000;font-family:Arial, sans-serif;font-size:14px;overflow:hidden;padding:10px 5px;text-align:left;vertical-align:top;word-break:normal\">14</td><td style=\"border-color:inherit;border-style:solid;border-width:1px;color:#fe0000;font-family:Arial, sans-serif;font-size:14px;overflow:hidden;padding:10px 5px;text-align:left;vertical-align:top;word-break:normal\">.060</td></tr><tr><td style=\"border-color:inherit;border-style:solid;border-width:1px;color:#000000;font-family:Arial, sans-serif;font-size:14px;overflow:hidden;padding:10px 5px;text-align:left;vertical-align:top;word-break:normal\">6</td><td style=\"border-color:inherit;border-style:solid;border-width:1px;color:#000000;font-family:Arial, sans-serif;font-size:14px;overflow:hidden;padding:10px 5px;text-align:left;vertical-align:top;word-break:normal\">15</td><td style=\"border-color:inherit;border-style:solid;border-width:1px;color:#000000;font-family:Arial, sans-serif;font-size:14px;overflow:hidden;padding:10px 5px;text-align:left;vertical-align:top;word-break:normal\">.064</td></tr><tr><td style=\"border-color:black;border-style:solid;border-width:1px;font-family:Arial, sans-serif;font-size:14px;overflow:hidden;padding:10px 5px;text-align:left;vertical-align:top;word-break:normal\">7</td><td style=\"border-color:black;border-style:solid;border-width:1px;font-family:Arial, sans-serif;font-size:14px;overflow:hidden;padding:10px 5px;text-align:left;vertical-align:top;word-break:normal\">15</td><td style=\"border-color:black;border-style:solid;border-width:1px;font-family:Arial, sans-serif;font-size:14px;overflow:hidden;padding:10px 5px;text-align:left;vertical-align:top;word-break:normal\">.064</td></tr><tr><td style=\"border-color:black;border-style:solid;border-width:1px;font-family:Arial, sans-serif;font-size:14px;overflow:hidden;padding:10px 5px;text-align:left;vertical-align:top;word-break:normal\">8</td><td style=\"border-color:black;border-style:solid;border-width:1px;font-family:Arial, sans-serif;font-size:14px;overflow:hidden;padding:10px 5px;text-align:left;vertical-align:top;word-break:normal\">9</td><td style=\"border-color:black;border-style:solid;border-width:1px;font-family:Arial, sans-serif;font-size:14px;overflow:hidden;padding:10px 5px;text-align:left;vertical-align:top;word-break:normal\">.038</td></tr><tr><td style=\"border-color:black;border-style:solid;border-width:1px;font-family:Arial, sans-serif;font-size:14px;overflow:hidden;padding:10px 5px;text-align:left;vertical-align:top;word-break:normal\">9</td><td style=\"border-color:black;border-style:solid;border-width:1px;font-family:Arial, sans-serif;font-size:14px;overflow:hidden;padding:10px 5px;text-align:left;vertical-align:top;word-break:normal\">11</td><td style=\"border-color:black;border-style:solid;border-width:1px;font-family:Arial, sans-serif;font-size:14px;overflow:hidden;padding:10px 5px;text-align:left;vertical-align:top;word-break:normal\">.047</td></tr><tr><td style=\"border-color:black;border-style:solid;border-width:1px;color:#fe0000;font-family:Arial, sans-serif;font-size:14px;overflow:hidden;padding:10px 5px;text-align:left;vertical-align:top;word-break:normal\">10</td><td style=\"border-color:black;border-style:solid;border-width:1px;color:#fe0000;font-family:Arial, sans-serif;font-size:14px;overflow:hidden;padding:10px 5px;text-align:left;vertical-align:top;word-break:normal\">14</td><td style=\"border-color:black;border-style:solid;border-width:1px;color:#fe0000;font-family:Arial, sans-serif;font-size:14px;overflow:hidden;padding:10px 5px;text-align:left;vertical-align:top;word-break:normal\">.060</td></tr><tr><td style=\"border-color:black;border-style:solid;border-width:1px;font-family:Arial, sans-serif;font-size:14px;overflow:hidden;padding:10px 5px;text-align:left;vertical-align:top;word-break:normal\">11</td><td style=\"border-color:black;border-style:solid;border-width:1px;font-family:Arial, sans-serif;font-size:14px;overflow:hidden;padding:10px 5px;text-align:left;vertical-align:top;word-break:normal\">10</td><td style=\"border-color:black;border-style:solid;border-width:1px;font-family:Arial, sans-serif;font-size:14px;overflow:hidden;padding:10px 5px;text-align:left;vertical-align:top;word-break:normal\">.043</td></tr><tr><td style=\"border-color:black;border-style:solid;border-width:1px;font-family:Arial, sans-serif;font-size:14px;overflow:hidden;padding:10px 5px;text-align:left;vertical-align:top;word-break:normal\">12</td><td style=\"border-color:black;border-style:solid;border-width:1px;font-family:Arial, sans-serif;font-size:14px;overflow:hidden;padding:10px 5px;text-align:left;vertical-align:top;word-break:normal\">3</td><td style=\"border-color:black;border-style:solid;border-width:1px;font-family:Arial, sans-serif;font-size:14px;overflow:hidden;padding:10px 5px;text-align:left;vertical-align:top;word-break:normal\">.013</td></tr><tr><td style=\"border-color:black;border-style:solid;border-width:1px;font-family:Arial, sans-serif;font-size:14px;overflow:hidden;padding:10px 5px;text-align:left;vertical-align:top;word-break:normal\">13</td><td style=\"border-color:black;border-style:solid;border-width:1px;font-family:Arial, sans-serif;font-size:14px;overflow:hidden;padding:10px 5px;text-align:left;vertical-align:top;word-break:normal\">14</td><td style=\"border-color:black;border-style:solid;border-width:1px;font-family:Arial, sans-serif;font-size:14px;overflow:hidden;padding:10px 5px;text-align:left;vertical-align:top;word-break:normal\">.060</td></tr><tr><td style=\"border-color:black;border-style:solid;border-width:1px;font-family:Arial, sans-serif;font-size:14px;overflow:hidden;padding:10px 5px;text-align:left;vertical-align:top;word-break:normal\">14</td><td style=\"border-color:black;border-style:solid;border-width:1px;font-family:Arial, sans-serif;font-size:14px;overflow:hidden;padding:10px 5px;text-align:left;vertical-align:top;word-break:normal\">12</td><td style=\"border-color:black;border-style:solid;border-width:1px;font-family:Arial, sans-serif;font-size:14px;overflow:hidden;padding:10px 5px;text-align:left;vertical-align:top;word-break:normal\">.051</td></tr><tr><td style=\"border-color:black;border-style:solid;border-width:1px;color:#fe0000;font-family:Arial, sans-serif;font-size:14px;overflow:hidden;padding:10px 5px;text-align:left;vertical-align:top;word-break:normal\">15</td><td style=\"border-color:black;border-style:solid;border-width:1px;color:#fe0000;font-family:Arial, sans-serif;font-size:14px;overflow:hidden;padding:10px 5px;text-align:left;vertical-align:top;word-break:normal\">17</td><td style=\"border-color:black;border-style:solid;border-width:1px;color:#fe0000;font-family:Arial, sans-serif;font-size:14px;overflow:hidden;padding:10px 5px;text-align:left;vertical-align:top;word-break:normal\">.072</td></tr></tbody></table>"
   ],
   "cell_type": "markdown",
   "metadata": {}
  },
  {
   "source": [
    "### 이때, 암호체계를 공격하는 방법에 대하여 기술하시오.(10점)"
   ],
   "cell_type": "markdown",
   "metadata": {}
  },
  {
   "source": [
    "### 5. 다음 문자 빈도 분석표와 분석 내용을 참고하여, 다음 암호체계의 키 값을 구하라.\n",
    "$$ C \\equiv k_1P + k_2 \\,\\bmod \\,\\ 26$$\n",
    "- 가장 빈번하게 나온 암호문은 F이다.\n",
    "- 두 번째로 빈번하게 나온 암호문은 C이다.\n",
    "\n",
    "![ex_screenshot](https://upload.wikimedia.org/wikipedia/commons/4/41/English-slf.png)<br>"
   ],
   "cell_type": "markdown",
   "metadata": {}
  },
  {
   "source": [
    "### 6. 유클리드 호제법을 이용하여 곱셈암호체계의 역원을 구하라.(10점)\n",
    "(1) 3<br>\n",
    "(2) 9<br>\n",
    "(3) 7<br>\n",
    "(4) 15<br>"
   ],
   "cell_type": "markdown",
   "metadata": {}
  },
  {
   "source": [
    "### 7. 다음과 같이 알베르티 암호 원판이 주어져 있을때, 다음 암호문을 해독하라.(10점)\n",
    "![알베르티 암호 원판](https://ncache.ilbe.com/files/attach/new/20130505/377678/109073993/1178808113/f5078ed8e7c50a23239607c80a19e346.jpg)<br>\n",
    "\n",
    "> eVjGoBtSL"
   ],
   "cell_type": "markdown",
   "metadata": {}
  },
  {
   "source": [
    "### 8. 각 암호체계에 효과적인 공격 방식을 서술하라.(10점)\n",
    "1. 아핀 암호\n",
    "2. 단표식 단순 치환 암호\n",
    "3. 블록의 크기가 2인 힐 암호\n",
    "4. 알베르티 암호\n",
    "5. 트리테미우스 정사각암호"
   ],
   "cell_type": "markdown",
   "metadata": {}
  },
  {
   "source": [
    "### 9. 블록의 크기가 2인 힐 암호에서, 문자 빈도 분석법이 사용하기 힘든 이유를 서술하라.(10점)"
   ],
   "cell_type": "markdown",
   "metadata": {}
  },
  {
   "source": [
    "### 10. 다음 암호체계의 식을 단순화하라. 그리고 어떤 방식으로 이 암호체계를 공격할 수 있는지 서술하라.(10점)\n",
    ">> 키가 3인 덧셈암호에서 3을 곱하여 아핀암호체계 X를 만들었다.<br>\n",
    ">> X에서 7을 곱하고 5를 더하여 더욱 복잡한 암호체계를 만들었다."
   ],
   "cell_type": "markdown",
   "metadata": {}
  }
 ]
}